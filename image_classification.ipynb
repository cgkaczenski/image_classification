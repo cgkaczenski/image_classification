{
 "cells": [
  {
   "cell_type": "markdown",
   "metadata": {
    "collapsed": true,
    "deletable": true,
    "editable": true
   },
   "source": [
    "# Image Classification\n",
    "In this project, you'll classify images from the [CIFAR-10 dataset](https://www.cs.toronto.edu/~kriz/cifar.html).  The dataset consists of airplanes, dogs, cats, and other objects. You'll preprocess the images, then train a convolutional neural network on all the samples. The images need to be normalized and the labels need to be one-hot encoded.  You'll get to apply what you learned and build a convolutional, max pooling, dropout, and fully connected layers.  At the end, you'll get to see your neural network's predictions on the sample images.\n",
    "## Get the Data\n",
    "Run the following cell to download the [CIFAR-10 dataset for python](https://www.cs.toronto.edu/~kriz/cifar-10-python.tar.gz)."
   ]
  },
  {
   "cell_type": "code",
   "execution_count": 1,
   "metadata": {
    "collapsed": false,
    "deletable": true,
    "editable": true
   },
   "outputs": [
    {
     "name": "stdout",
     "output_type": "stream",
     "text": [
      "All files found!\n"
     ]
    }
   ],
   "source": [
    "\"\"\"\n",
    "DON'T MODIFY ANYTHING IN THIS CELL THAT IS BELOW THIS LINE\n",
    "\"\"\"\n",
    "from urllib.request import urlretrieve\n",
    "from os.path import isfile, isdir\n",
    "from tqdm import tqdm\n",
    "import problem_unittests as tests\n",
    "import tarfile\n",
    "\n",
    "cifar10_dataset_folder_path = 'cifar-10-batches-py'\n",
    "\n",
    "class DLProgress(tqdm):\n",
    "    last_block = 0\n",
    "\n",
    "    def hook(self, block_num=1, block_size=1, total_size=None):\n",
    "        self.total = total_size\n",
    "        self.update((block_num - self.last_block) * block_size)\n",
    "        self.last_block = block_num\n",
    "\n",
    "if not isfile('cifar-10-python.tar.gz'):\n",
    "    with DLProgress(unit='B', unit_scale=True, miniters=1, desc='CIFAR-10 Dataset') as pbar:\n",
    "        urlretrieve(\n",
    "            'https://www.cs.toronto.edu/~kriz/cifar-10-python.tar.gz',\n",
    "            'cifar-10-python.tar.gz',\n",
    "            pbar.hook)\n",
    "\n",
    "if not isdir(cifar10_dataset_folder_path):\n",
    "    with tarfile.open('cifar-10-python.tar.gz') as tar:\n",
    "        tar.extractall()\n",
    "        tar.close()\n",
    "\n",
    "\n",
    "tests.test_folder_path(cifar10_dataset_folder_path)"
   ]
  },
  {
   "cell_type": "markdown",
   "metadata": {
    "deletable": true,
    "editable": true
   },
   "source": [
    "## Explore the Data\n",
    "The dataset is broken into batches to prevent your machine from running out of memory.  The CIFAR-10 dataset consists of 5 batches, named `data_batch_1`, `data_batch_2`, etc.. Each batch contains the labels and images that are one of the following:\n",
    "* airplane\n",
    "* automobile\n",
    "* bird\n",
    "* cat\n",
    "* deer\n",
    "* dog\n",
    "* frog\n",
    "* horse\n",
    "* ship\n",
    "* truck\n",
    "\n",
    "Understanding a dataset is part of making predictions on the data.  Play around with the code cell below by changing the `batch_id` and `sample_id`. The `batch_id` is the id for a batch (1-5). The `sample_id` is the id for a image and label pair in the batch.\n",
    "\n",
    "Ask yourself \"What are all possible labels?\", \"What is the range of values for the image data?\", \"Are the labels in order or random?\".  Answers to questions like these will help you preprocess the data and end up with better predictions."
   ]
  },
  {
   "cell_type": "code",
   "execution_count": 2,
   "metadata": {
    "collapsed": false,
    "deletable": true,
    "editable": true
   },
   "outputs": [
    {
     "name": "stdout",
     "output_type": "stream",
     "text": [
      "\n",
      "Stats of batch 1:\n",
      "Samples: 10000\n",
      "Label Counts: {0: 1005, 1: 974, 2: 1032, 3: 1016, 4: 999, 5: 937, 6: 1030, 7: 1001, 8: 1025, 9: 981}\n",
      "First 20 Labels: [6, 9, 9, 4, 1, 1, 2, 7, 8, 3, 4, 7, 7, 2, 9, 9, 9, 3, 2, 6]\n",
      "\n",
      "Example of Image 1:\n",
      "Image - Min Value: 5 Max Value: 254\n",
      "Image - Shape: (32, 32, 3)\n",
      "Label - Label Id: 9 Name: truck\n"
     ]
    },
    {
     "data": {
      "image/png": "[encoded data removed]",
      "text/plain": [
       "<matplotlib.figure.Figure at 0x1e4736588>"
      ]
     },
     "metadata": {
      "image/png": {
       "height": 250,
       "width": 253
      }
     },
     "output_type": "display_data"
    }
   ],
   "source": [
    "%matplotlib inline\n",
    "%config InlineBackend.figure_format = 'retina'\n",
    "\n",
    "import helper\n",
    "import numpy as np\n",
    "\n",
    "# Explore the dataset\n",
    "batch_id = 1\n",
    "sample_id = 1\n",
    "helper.display_stats(cifar10_dataset_folder_path, batch_id, sample_id)"
   ]
  },
  {
   "cell_type": "markdown",
   "metadata": {
    "deletable": true,
    "editable": true
   },
   "source": [
    "## Implement Preprocess Functions\n",
    "### Normalize\n",
    "In the cell below, implement the `normalize` function to take in image data, `x`, and return it as a normalized Numpy array. The values should be in the range of 0 to 1, inclusive.  The return object should be the same shape as `x`."
   ]
  },
  {
   "cell_type": "code",
   "execution_count": 3,
   "metadata": {
    "collapsed": false,
    "deletable": true,
    "editable": true
   },
   "outputs": [
    {
     "name": "stdout",
     "output_type": "stream",
     "text": [
      "Tests Passed\n"
     ]
    }
   ],
   "source": [
    "def normalize(x):\n",
    "    \"\"\"\n",
    "    Normalize a list of sample image data in the range of 0 to 1\n",
    "    : x: List of image data.  The image shape is (32, 32, 3)\n",
    "    : return: Numpy array of normalize data\n",
    "    \"\"\"\n",
    "    return x/255\n",
    "\n",
    "\n",
    "\"\"\"\n",
    "DON'T MODIFY ANYTHING IN THIS CELL THAT IS BELOW THIS LINE\n",
    "\"\"\"\n",
    "tests.test_normalize(normalize)"
   ]
  },
  {
   "cell_type": "markdown",
   "metadata": {
    "deletable": true,
    "editable": true
   },
   "source": [
    "### One-hot encode\n",
    "Just like the previous code cell, you'll be implementing a function for preprocessing.  This time, you'll implement the `one_hot_encode` function. The input, `x`, are a list of labels.  Implement the function to return the list of labels as One-Hot encoded Numpy array.  The possible values for labels are 0 to 9. The one-hot encoding function should return the same encoding for each value between each call to `one_hot_encode`.  Make sure to save the map of encodings outside the function.\n",
    "\n",
    "**Hint:**\n",
    "\n",
    "Look into LabelBinarizer in the preprocessing module of sklearn."
   ]
  },
  {
   "cell_type": "code",
   "execution_count": 4,
   "metadata": {
    "collapsed": false,
    "deletable": true,
    "editable": true
   },
   "outputs": [
    {
     "name": "stdout",
     "output_type": "stream",
     "text": [
      "Tests Passed\n"
     ]
    }
   ],
   "source": [
    "def one_hot_encode(x):\n",
    "    \"\"\"\n",
    "    One hot encode a list of sample labels. Return a one-hot encoded vector for each label.\n",
    "    : x: List of sample Labels\n",
    "    : return: Numpy array of one-hot encoded labels\n",
    "    \"\"\"\n",
    "    num_labels = 10\n",
    "    labels = np.array(x)\n",
    "    return (np.arange(num_labels) == labels[:,None]).astype(np.float32)\n",
    "\n",
    "\n",
    "\"\"\"\n",
    "DON'T MODIFY ANYTHING IN THIS CELL THAT IS BELOW THIS LINE\n",
    "\"\"\"\n",
    "tests.test_one_hot_encode(one_hot_encode)"
   ]
  },
  {
   "cell_type": "markdown",
   "metadata": {
    "deletable": true,
    "editable": true
   },
   "source": [
    "### Randomize Data\n",
    "As you saw from exploring the data above, the order of the samples are randomized.  It doesn't hurt to randomize it again, but you don't need to for this dataset."
   ]
  },
  {
   "cell_type": "markdown",
   "metadata": {
    "deletable": true,
    "editable": true
   },
   "source": [
    "## Preprocess all the data and save it\n",
    "Running the code cell below will preprocess all the CIFAR-10 data and save it to file. The code below also uses 10% of the training data for validation."
   ]
  },
  {
   "cell_type": "code",
   "execution_count": 5,
   "metadata": {
    "collapsed": false,
    "deletable": true,
    "editable": true
   },
   "outputs": [],
   "source": [
    "\"\"\"\n",
    "DON'T MODIFY ANYTHING IN THIS CELL\n",
    "\"\"\"\n",
    "# Preprocess Training, Validation, and Testing Data\n",
    "helper.preprocess_and_save_data(cifar10_dataset_folder_path, normalize, one_hot_encode)"
   ]
  },
  {
   "cell_type": "markdown",
   "metadata": {
    "deletable": true,
    "editable": true
   },
   "source": [
    "# Check Point\n",
    "This is your first checkpoint.  If you ever decide to come back to this notebook or have to restart the notebook, you can start from here.  The preprocessed data has been saved to disk."
   ]
  },
  {
   "cell_type": "code",
   "execution_count": 6,
   "metadata": {
    "collapsed": true,
    "deletable": true,
    "editable": true
   },
   "outputs": [],
   "source": [
    "\"\"\"\n",
    "DON'T MODIFY ANYTHING IN THIS CELL\n",
    "\"\"\"\n",
    "import pickle\n",
    "import problem_unittests as tests\n",
    "import helper\n",
    "\n",
    "# Load the Preprocessed Validation data\n",
    "valid_features, valid_labels = pickle.load(open('preprocess_validation.p', mode='rb'))"
   ]
  },
  {
   "cell_type": "markdown",
   "metadata": {
    "deletable": true,
    "editable": true
   },
   "source": [
    "## Build the network\n",
    "For the neural network, you'll build each layer into a function.  Most of the code you've seen has been outside of functions. To test your code more thoroughly, we require that you put each layer in a function.  This allows us to give you better feedback and test for simple mistakes using our unittests before you submit your project.\n",
    "\n",
    ">**Note:** If you're finding it hard to dedicate enough time for this course each week, we've provided a small shortcut to this part of the project. In the next couple of problems, you'll have the option to use classes from the [TensorFlow Layers](https://www.tensorflow.org/api_docs/python/tf/layers) or [TensorFlow Layers (contrib)](https://www.tensorflow.org/api_guides/python/contrib.layers) packages to build each layer, except the layers you build in the \"Convolutional and Max Pooling Layer\" section.  TF Layers is similar to Keras's and TFLearn's abstraction to layers, so it's easy to pickup.\n",
    "\n",
    ">However, if you would like to get the most out of this course, try to solve all the problems _without_ using anything from the TF Layers packages. You **can** still use classes from other packages that happen to have the same name as ones you find in TF Layers! For example, instead of using the TF Layers version of the `conv2d` class, [tf.layers.conv2d](https://www.tensorflow.org/api_docs/python/tf/layers/conv2d), you would want to use the TF Neural Network version of `conv2d`, [tf.nn.conv2d](https://www.tensorflow.org/api_docs/python/tf/nn/conv2d). \n",
    "\n",
    "Let's begin!\n",
    "\n",
    "### Input\n",
    "The neural network needs to read the image data, one-hot encoded labels, and dropout keep probability. Implement the following functions\n",
    "* Implement `neural_net_image_input`\n",
    " * Return a [TF Placeholder](https://www.tensorflow.org/api_docs/python/tf/placeholder)\n",
    " * Set the shape using `image_shape` with batch size set to `None`.\n",
    " * Name the TensorFlow placeholder \"x\" using the TensorFlow `name` parameter in the [TF Placeholder](https://www.tensorflow.org/api_docs/python/tf/placeholder).\n",
    "* Implement `neural_net_label_input`\n",
    " * Return a [TF Placeholder](https://www.tensorflow.org/api_docs/python/tf/placeholder)\n",
    " * Set the shape using `n_classes` with batch size set to `None`.\n",
    " * Name the TensorFlow placeholder \"y\" using the TensorFlow `name` parameter in the [TF Placeholder](https://www.tensorflow.org/api_docs/python/tf/placeholder).\n",
    "* Implement `neural_net_keep_prob_input`\n",
    " * Return a [TF Placeholder](https://www.tensorflow.org/api_docs/python/tf/placeholder) for dropout keep probability.\n",
    " * Name the TensorFlow placeholder \"keep_prob\" using the TensorFlow `name` parameter in the [TF Placeholder](https://www.tensorflow.org/api_docs/python/tf/placeholder).\n",
    "\n",
    "These names will be used at the end of the project to load your saved model.\n",
    "\n",
    "Note: `None` for shapes in TensorFlow allow for a dynamic size."
   ]
  },
  {
   "cell_type": "code",
   "execution_count": 7,
   "metadata": {
    "collapsed": false,
    "deletable": true,
    "editable": true
   },
   "outputs": [
    {
     "name": "stdout",
     "output_type": "stream",
     "text": [
      "Image Input Tests Passed.\n",
      "Label Input Tests Passed.\n",
      "Keep Prob Tests Passed.\n"
     ]
    }
   ],
   "source": [
    "import tensorflow as tf\n",
    "\n",
    "def neural_net_image_input(image_shape):\n",
    "    \"\"\"\n",
    "    Return a Tensor for a batch of image input\n",
    "    : image_shape: Shape of the images\n",
    "    : return: Tensor for image input.\n",
    "    \"\"\"\n",
    "    return tf.placeholder(tf.float32, shape=(None, image_shape[0], image_shape[1], image_shape[2]), name=\"x\")\n",
    "\n",
    "\n",
    "def neural_net_label_input(n_classes):\n",
    "    \"\"\"\n",
    "    Return a Tensor for a batch of label input\n",
    "    : n_classes: Number of classes\n",
    "    : return: Tensor for label input.\n",
    "    \"\"\"\n",
    "    return  tf.placeholder(tf.float32, shape=(None, n_classes), name=\"y\")\n",
    "\n",
    "\n",
    "def neural_net_keep_prob_input():\n",
    "    \"\"\"\n",
    "    Return a Tensor for keep probability\n",
    "    : return: Tensor for keep probability.\n",
    "    \"\"\"\n",
    "    return tf.placeholder(tf.float32, name=\"keep_prob\")\n",
    "\n",
    "\n",
    "\"\"\"\n",
    "DON'T MODIFY ANYTHING IN THIS CELL THAT IS BELOW THIS LINE\n",
    "\"\"\"\n",
    "tf.reset_default_graph()\n",
    "tests.test_nn_image_inputs(neural_net_image_input)\n",
    "tests.test_nn_label_inputs(neural_net_label_input)\n",
    "tests.test_nn_keep_prob_inputs(neural_net_keep_prob_input)"
   ]
  },
  {
   "cell_type": "markdown",
   "metadata": {
    "deletable": true,
    "editable": true
   },
   "source": [
    "### Convolution and Max Pooling Layer\n",
    "Convolution layers have a lot of success with images. For this code cell, you should implement the function `conv2d_maxpool` to apply convolution then max pooling:\n",
    "* Create the weight and bias using `conv_ksize`, `conv_num_outputs` and the shape of `x_tensor`.\n",
    "* Apply a convolution to `x_tensor` using weight and `conv_strides`.\n",
    " * We recommend you use same padding, but you're welcome to use any padding.\n",
    "* Add bias\n",
    "* Add a nonlinear activation to the convolution.\n",
    "* Apply Max Pooling using `pool_ksize` and `pool_strides`.\n",
    " * We recommend you use same padding, but you're welcome to use any padding.\n",
    "\n",
    "**Note:** You **can't** use [TensorFlow Layers](https://www.tensorflow.org/api_docs/python/tf/layers) or [TensorFlow Layers (contrib)](https://www.tensorflow.org/api_guides/python/contrib.layers) for **this** layer, but you can still use TensorFlow's [Neural Network](https://www.tensorflow.org/api_docs/python/tf/nn) package. You may still use the shortcut option for all the **other** layers.\n",
    "\n",
    "** Hint: **\n",
    "\n",
    "When unpacking values as an argument in Python, look into the [unpacking](https://docs.python.org/3/tutorial/controlflow.html#unpacking-argument-lists) operator. "
   ]
  },
  {
   "cell_type": "code",
   "execution_count": 8,
   "metadata": {
    "collapsed": false,
    "deletable": true,
    "editable": true
   },
   "outputs": [
    {
     "name": "stdout",
     "output_type": "stream",
     "text": [
      "Tests Passed\n"
     ]
    }
   ],
   "source": [
    "def conv2d_maxpool(x_tensor, conv_num_outputs, conv_ksize, conv_strides, pool_ksize, pool_strides):\n",
    "    \"\"\"\n",
    "    Apply convolution then max pooling to x_tensor\n",
    "    :param x_tensor: TensorFlow Tensor\n",
    "    :param conv_num_outputs: Number of outputs for the convolutional layer\n",
    "    :param conv_ksize: kernal size 2-D Tuple for the convolutional layer\n",
    "    :param conv_strides: Stride 2-D Tuple for convolution\n",
    "    :param pool_ksize: kernal size 2-D Tuple for pool\n",
    "    :param pool_strides: Stride 2-D Tuple for pool\n",
    "    : return: A tensor that represents convolution and max pooling of x_tensor\n",
    "    \"\"\"\n",
    "    weight = tf.Variable(tf.truncated_normal([*conv_ksize, int(x_tensor.shape[3]), conv_num_outputs], stddev=0.1))\n",
    "    bias = tf.Variable(tf.zeros([conv_num_outputs]))\n",
    "    conv = tf.nn.conv2d(x_tensor, weight, strides=[1,*conv_strides, 1], padding='SAME')\n",
    "    relu = tf.nn.relu(conv + bias)\n",
    "    return tf.nn.max_pool(relu, ksize=[1,*pool_ksize,1], strides=[1,*pool_strides,1], padding='SAME')\n",
    "\n",
    "\"\"\"\n",
    "DON'T MODIFY ANYTHING IN THIS CELL THAT IS BELOW THIS LINE\n",
    "\"\"\"\n",
    "tests.test_con_pool(conv2d_maxpool)"
   ]
  },
  {
   "cell_type": "markdown",
   "metadata": {
    "deletable": true,
    "editable": true
   },
   "source": [
    "### Flatten Layer\n",
    "Implement the `flatten` function to change the dimension of `x_tensor` from a 4-D tensor to a 2-D tensor.  The output should be the shape (*Batch Size*, *Flattened Image Size*). Shortcut option: you can use classes from the [TensorFlow Layers](https://www.tensorflow.org/api_docs/python/tf/layers) or [TensorFlow Layers (contrib)](https://www.tensorflow.org/api_guides/python/contrib.layers) packages for this layer. For more of a challenge, only use other TensorFlow packages."
   ]
  },
  {
   "cell_type": "code",
   "execution_count": 9,
   "metadata": {
    "collapsed": false,
    "deletable": true,
    "editable": true
   },
   "outputs": [
    {
     "name": "stdout",
     "output_type": "stream",
     "text": [
      "Tests Passed\n"
     ]
    }
   ],
   "source": [
    "def flatten(x_tensor):\n",
    "    \"\"\"\n",
    "    Flatten x_tensor to (Batch Size, Flattened Image Size)\n",
    "    : x_tensor: A tensor of size (Batch Size, ...), where ... are the image dimensions.\n",
    "    : return: A tensor of size (Batch Size, Flattened Image Size).\n",
    "    \"\"\"\n",
    "    shape = x_tensor.get_shape().as_list()\n",
    "    return tf.reshape(x_tensor,[-1, shape[1]*shape[2]*shape[3]])\n",
    "\n",
    "\"\"\"\n",
    "DON'T MODIFY ANYTHING IN THIS CELL THAT IS BELOW THIS LINE\n",
    "\"\"\"\n",
    "tests.test_flatten(flatten)"
   ]
  },
  {
   "cell_type": "markdown",
   "metadata": {
    "deletable": true,
    "editable": true
   },
   "source": [
    "### Fully-Connected Layer\n",
    "Implement the `fully_conn` function to apply a fully connected layer to `x_tensor` with the shape (*Batch Size*, *num_outputs*). Shortcut option: you can use classes from the [TensorFlow Layers](https://www.tensorflow.org/api_docs/python/tf/layers) or [TensorFlow Layers (contrib)](https://www.tensorflow.org/api_guides/python/contrib.layers) packages for this layer. For more of a challenge, only use other TensorFlow packages."
   ]
  },
  {
   "cell_type": "code",
   "execution_count": 10,
   "metadata": {
    "collapsed": false,
    "deletable": true,
    "editable": true
   },
   "outputs": [
    {
     "name": "stdout",
     "output_type": "stream",
     "text": [
      "Tests Passed\n"
     ]
    }
   ],
   "source": [
    "def fully_conn(x_tensor, num_outputs):\n",
    "    \"\"\"\n",
    "    Apply a fully connected layer to x_tensor using weight and bias\n",
    "    : x_tensor: A 2-D tensor where the first dimension is batch size.\n",
    "    : num_outputs: The number of output that the new tensor should be.\n",
    "    : return: A 2-D tensor where the second dimension is num_outputs.\n",
    "    \"\"\"\n",
    "    weights = tf.Variable(tf.truncated_normal([x_tensor.get_shape().as_list()[1], num_outputs], stddev=0.1))\n",
    "    bias = tf.Variable(tf.constant(1.0, shape=[num_outputs]))\n",
    "    return tf.nn.relu(tf.add(tf.matmul(x_tensor, weights), bias))\n",
    "\n",
    "\n",
    "\"\"\"\n",
    "DON'T MODIFY ANYTHING IN THIS CELL THAT IS BELOW THIS LINE\n",
    "\"\"\"\n",
    "tests.test_fully_conn(fully_conn)"
   ]
  },
  {
   "cell_type": "markdown",
   "metadata": {
    "deletable": true,
    "editable": true
   },
   "source": [
    "### Output Layer\n",
    "Implement the `output` function to apply a fully connected layer to `x_tensor` with the shape (*Batch Size*, *num_outputs*). Shortcut option: you can use classes from the [TensorFlow Layers](https://www.tensorflow.org/api_docs/python/tf/layers) or [TensorFlow Layers (contrib)](https://www.tensorflow.org/api_guides/python/contrib.layers) packages for this layer. For more of a challenge, only use other TensorFlow packages.\n",
    "\n",
    "**Note:** Activation, softmax, or cross entropy should **not** be applied to this."
   ]
  },
  {
   "cell_type": "code",
   "execution_count": 11,
   "metadata": {
    "collapsed": false,
    "deletable": true,
    "editable": true
   },
   "outputs": [
    {
     "name": "stdout",
     "output_type": "stream",
     "text": [
      "Tests Passed\n"
     ]
    }
   ],
   "source": [
    "def output(x_tensor, num_outputs):\n",
    "    \"\"\"\n",
    "    Apply a output layer to x_tensor using weight and bias\n",
    "    : x_tensor: A 2-D tensor where the first dimension is batch size.\n",
    "    : num_outputs: The number of output that the new tensor should be.\n",
    "    : return: A 2-D tensor where the second dimension is num_outputs.\n",
    "    \"\"\"\n",
    "    weights = tf.Variable(tf.truncated_normal([x_tensor.get_shape().as_list()[1], num_outputs], stddev=0.1))\n",
    "    bias = tf.Variable(tf.constant(1.0, shape=[num_outputs]))\n",
    "    return tf.add(tf.matmul(x_tensor, weights), bias)\n",
    "\n",
    "\n",
    "\"\"\"\n",
    "DON'T MODIFY ANYTHING IN THIS CELL THAT IS BELOW THIS LINE\n",
    "\"\"\"\n",
    "tests.test_output(output)"
   ]
  },
  {
   "cell_type": "markdown",
   "metadata": {
    "deletable": true,
    "editable": true
   },
   "source": [
    "### Create Convolutional Model\n",
    "Implement the function `conv_net` to create a convolutional neural network model. The function takes in a batch of images, `x`, and outputs logits.  Use the layers you created above to create this model:\n",
    "\n",
    "* Apply 1, 2, or 3 Convolution and Max Pool layers\n",
    "* Apply a Flatten Layer\n",
    "* Apply 1, 2, or 3 Fully Connected Layers\n",
    "* Apply an Output Layer\n",
    "* Return the output\n",
    "* Apply [TensorFlow's Dropout](https://www.tensorflow.org/api_docs/python/tf/nn/dropout) to one or more layers in the model using `keep_prob`. "
   ]
  },
  {
   "cell_type": "code",
   "execution_count": 12,
   "metadata": {
    "collapsed": false,
    "deletable": true,
    "editable": true
   },
   "outputs": [
    {
     "name": "stdout",
     "output_type": "stream",
     "text": [
      "Neural Network Built!\n"
     ]
    }
   ],
   "source": [
    "def conv_net(x, keep_prob):\n",
    "    \"\"\"\n",
    "    Create a convolutional neural network model\n",
    "    : x: Placeholder tensor that holds image data.\n",
    "    : keep_prob: Placeholder tensor that hold dropout keep probability.\n",
    "    : return: Tensor that represents logits\n",
    "    \"\"\"\n",
    "    # TODO: Apply 1, 2, or 3 Convolution and Max Pool layers\n",
    "    #    Play around with different number of outputs, kernel size and stride\n",
    "    # Function Definition from Above:\n",
    "    #    conv2d_maxpool(x_tensor, conv_num_outputs, conv_ksize, conv_strides, pool_ksize, pool_strides)\n",
    "    conv = conv2d_maxpool(x, 6, (6,6), (1,1), (1,1), (2,2))\n",
    "    conv = conv2d_maxpool(conv, 12, (5,5), (1,1), (1,1), (2,2))\n",
    "    conv = conv2d_maxpool(conv, 24, (4,4), (1,1), (1,1), (2,2))\n",
    "\n",
    "    # TODO: Apply a Flatten Layer\n",
    "    # Function Definition from Above:\n",
    "    flat = flatten(conv)\n",
    "\n",
    "    # TODO: Apply 1, 2, or 3 Fully Connected Layers\n",
    "    #    Play around with different number of outputs\n",
    "    # Function Definition from Above:\n",
    "    #   fully_conn(x_tensor, num_outputs)\n",
    "    full = fully_conn(flat, 200)\n",
    "    tf.nn.dropout(full,keep_prob)\n",
    "    # TODO: Apply an Output Layer\n",
    "    #    Set this to the number of classes\n",
    "    # Function Definition from Above:\n",
    "    #   output(x_tensor, num_outputs)\n",
    "    out = output(full, 10)\n",
    "    \n",
    "    # TODO: return output\n",
    "    return out\n",
    "\n",
    "\n",
    "\"\"\"\n",
    "DON'T MODIFY ANYTHING IN THIS CELL THAT IS BELOW THIS LINE\n",
    "\"\"\"\n",
    "\n",
    "##############################\n",
    "## Build the Neural Network ##\n",
    "##############################\n",
    "\n",
    "# Remove previous weights, bias, inputs, etc..\n",
    "tf.reset_default_graph()\n",
    "\n",
    "# Inputs\n",
    "x = neural_net_image_input((32, 32, 3))\n",
    "y = neural_net_label_input(10)\n",
    "keep_prob = neural_net_keep_prob_input()\n",
    "\n",
    "# Model\n",
    "logits = conv_net(x, keep_prob)\n",
    "\n",
    "# Name logits Tensor, so that is can be loaded from disk after training\n",
    "logits = tf.identity(logits, name='logits')\n",
    "\n",
    "# Loss and Optimizer\n",
    "cost = tf.reduce_mean(tf.nn.softmax_cross_entropy_with_logits(logits=logits, labels=y))\n",
    "optimizer = tf.train.AdamOptimizer().minimize(cost)\n",
    "\n",
    "# Accuracy\n",
    "correct_pred = tf.equal(tf.argmax(logits, 1), tf.argmax(y, 1))\n",
    "accuracy = tf.reduce_mean(tf.cast(correct_pred, tf.float32), name='accuracy')\n",
    "\n",
    "tests.test_conv_net(conv_net)"
   ]
  },
  {
   "cell_type": "markdown",
   "metadata": {
    "deletable": true,
    "editable": true
   },
   "source": [
    "## Train the Neural Network\n",
    "### Single Optimization\n",
    "Implement the function `train_neural_network` to do a single optimization.  The optimization should use `optimizer` to optimize in `session` with a `feed_dict` of the following:\n",
    "* `x` for image input\n",
    "* `y` for labels\n",
    "* `keep_prob` for keep probability for dropout\n",
    "\n",
    "This function will be called for each batch, so `tf.global_variables_initializer()` has already been called.\n",
    "\n",
    "Note: Nothing needs to be returned. This function is only optimizing the neural network."
   ]
  },
  {
   "cell_type": "code",
   "execution_count": 13,
   "metadata": {
    "collapsed": false,
    "deletable": true,
    "editable": true
   },
   "outputs": [
    {
     "name": "stdout",
     "output_type": "stream",
     "text": [
      "Tests Passed\n"
     ]
    }
   ],
   "source": [
    "def train_neural_network(session, optimizer, keep_probability, feature_batch, label_batch):\n",
    "    \"\"\"\n",
    "    Optimize the session on a batch of images and labels\n",
    "    : session: Current TensorFlow session\n",
    "    : optimizer: TensorFlow optimizer function\n",
    "    : keep_probability: keep probability\n",
    "    : feature_batch: Batch of Numpy image data\n",
    "    : label_batch: Batch of Numpy label data\n",
    "    \"\"\"\n",
    "    feed_dict = {x : feature_batch, y : label_batch, keep_prob : keep_probability}\n",
    "    session.run([optimizer], feed_dict=feed_dict)\n",
    "    \n",
    "\"\"\"\n",
    "DON'T MODIFY ANYTHING IN THIS CELL THAT IS BELOW THIS LINE\n",
    "\"\"\"\n",
    "tests.test_train_nn(train_neural_network)"
   ]
  },
  {
   "cell_type": "markdown",
   "metadata": {
    "deletable": true,
    "editable": true
   },
   "source": [
    "### Show Stats\n",
    "Implement the function `print_stats` to print loss and validation accuracy.  Use the global variables `valid_features` and `valid_labels` to calculate validation accuracy.  Use a keep probability of `1.0` to calculate the loss and validation accuracy."
   ]
  },
  {
   "cell_type": "code",
   "execution_count": 37,
   "metadata": {
    "collapsed": false,
    "deletable": true,
    "editable": true
   },
   "outputs": [],
   "source": [
    "def print_stats(session, feature_batch, label_batch, cost, accuracy):\n",
    "    \"\"\"\n",
    "    Print information about loss and validation accuracy\n",
    "    : session: Current TensorFlow session\n",
    "    : feature_batch: Batch of Numpy image data\n",
    "    : label_batch: Batch of Numpy label data\n",
    "    : cost: TensorFlow cost function\n",
    "    : accuracy: TensorFlow accuracy function\n",
    "    \"\"\"\n",
    "    feed_dict = {x : valid_features, y : valid_labels, keep_prob : 1.0}\n",
    "    _, l, acc = session.run([optimizer, cost, accuracy], feed_dict=feed_dict)\n",
    "    print('loss: %f' % l)\n",
    "    print('Accuracy: %.2f%%' % (acc*100.0))"
   ]
  },
  {
   "cell_type": "markdown",
   "metadata": {
    "deletable": true,
    "editable": true
   },
   "source": [
    "### Hyperparameters\n",
    "Tune the following parameters:\n",
    "* Set `epochs` to the number of iterations until the network stops learning or start overfitting\n",
    "* Set `batch_size` to the highest number that your machine has memory for.  Most people set them to common sizes of memory:\n",
    " * 64\n",
    " * 128\n",
    " * 256\n",
    " * ...\n",
    "* Set `keep_probability` to the probability of keeping a node using dropout"
   ]
  },
  {
   "cell_type": "code",
   "execution_count": 43,
   "metadata": {
    "collapsed": true,
    "deletable": true,
    "editable": true
   },
   "outputs": [],
   "source": [
    "# TODO: Tune Parameters\n",
    "epochs = 25\n",
    "batch_size = 256\n",
    "keep_probability = 0.6"
   ]
  },
  {
   "cell_type": "markdown",
   "metadata": {
    "deletable": true,
    "editable": true
   },
   "source": [
    "### Train on a Single CIFAR-10 Batch\n",
    "Instead of training the neural network on all the CIFAR-10 batches of data, let's use a single batch. This should save time while you iterate on the model to get a better accuracy.  Once the final validation accuracy is 50% or greater, run the model on all the data in the next section."
   ]
  },
  {
   "cell_type": "code",
   "execution_count": 44,
   "metadata": {
    "collapsed": false,
    "deletable": true,
    "editable": true
   },
   "outputs": [
    {
     "name": "stdout",
     "output_type": "stream",
     "text": [
      "Checking the Training on a Single Batch...\n",
      "Epoch  1, CIFAR-10 Batch 1:  loss: 1.995426\n",
      "Accuracy: 26.66%\n",
      "Epoch  2, CIFAR-10 Batch 1:  loss: 1.819989\n",
      "Accuracy: 36.40%\n",
      "Epoch  3, CIFAR-10 Batch 1:  loss: 1.725913\n",
      "Accuracy: 38.56%\n",
      "Epoch  4, CIFAR-10 Batch 1:  loss: 1.624193\n",
      "Accuracy: 42.36%\n",
      "Epoch  5, CIFAR-10 Batch 1:  loss: 1.583774\n",
      "Accuracy: 43.10%\n",
      "Epoch  6, CIFAR-10 Batch 1:  loss: 1.559926\n",
      "Accuracy: 44.18%\n",
      "Epoch  7, CIFAR-10 Batch 1:  loss: 1.570647\n",
      "Accuracy: 43.94%\n",
      "Epoch  8, CIFAR-10 Batch 1:  loss: 1.530483\n",
      "Accuracy: 45.14%\n",
      "Epoch  9, CIFAR-10 Batch 1:  loss: 1.516233\n",
      "Accuracy: 46.06%\n",
      "Epoch 10, CIFAR-10 Batch 1:  loss: 1.502836\n",
      "Accuracy: 46.36%\n",
      "Epoch 11, CIFAR-10 Batch 1:  loss: 1.484748\n",
      "Accuracy: 47.24%\n",
      "Epoch 12, CIFAR-10 Batch 1:  loss: 1.465339\n",
      "Accuracy: 48.22%\n",
      "Epoch 13, CIFAR-10 Batch 1:  loss: 1.458990\n",
      "Accuracy: 48.34%\n",
      "Epoch 14, CIFAR-10 Batch 1:  loss: 1.454053\n",
      "Accuracy: 48.50%\n",
      "Epoch 15, CIFAR-10 Batch 1:  loss: 1.448335\n",
      "Accuracy: 48.56%\n",
      "Epoch 16, CIFAR-10 Batch 1:  loss: 1.443816\n",
      "Accuracy: 48.58%\n",
      "Epoch 17, CIFAR-10 Batch 1:  loss: 1.443489\n",
      "Accuracy: 49.14%\n",
      "Epoch 18, CIFAR-10 Batch 1:  loss: 1.440988\n",
      "Accuracy: 49.32%\n",
      "Epoch 19, CIFAR-10 Batch 1:  loss: 1.438553\n",
      "Accuracy: 49.10%\n",
      "Epoch 20, CIFAR-10 Batch 1:  loss: 1.436047\n",
      "Accuracy: 49.50%\n",
      "Epoch 21, CIFAR-10 Batch 1:  loss: 1.431480\n",
      "Accuracy: 49.86%\n",
      "Epoch 22, CIFAR-10 Batch 1:  loss: 1.431095\n",
      "Accuracy: 50.06%\n",
      "Epoch 23, CIFAR-10 Batch 1:  loss: 1.436346\n",
      "Accuracy: 50.26%\n",
      "Epoch 24, CIFAR-10 Batch 1:  loss: 1.440424\n",
      "Accuracy: 50.16%\n",
      "Epoch 25, CIFAR-10 Batch 1:  loss: 1.450894\n",
      "Accuracy: 50.16%\n"
     ]
    }
   ],
   "source": [
    "\"\"\"\n",
    "DON'T MODIFY ANYTHING IN THIS CELL\n",
    "\"\"\"\n",
    "print('Checking the Training on a Single Batch...')\n",
    "with tf.Session() as sess:\n",
    "    # Initializing the variables\n",
    "    sess.run(tf.global_variables_initializer())\n",
    "    \n",
    "    # Training cycle\n",
    "    for epoch in range(epochs):\n",
    "        batch_i = 1\n",
    "        for batch_features, batch_labels in helper.load_preprocess_training_batch(batch_i, batch_size):\n",
    "            train_neural_network(sess, optimizer, keep_probability, batch_features, batch_labels)\n",
    "        print('Epoch {:>2}, CIFAR-10 Batch {}:  '.format(epoch + 1, batch_i), end='')\n",
    "        print_stats(sess, batch_features, batch_labels, cost, accuracy)"
   ]
  },
  {
   "cell_type": "markdown",
   "metadata": {
    "deletable": true,
    "editable": true
   },
   "source": [
    "### Fully Train the Model\n",
    "Now that you got a good accuracy with a single CIFAR-10 batch, try it with all five batches."
   ]
  },
  {
   "cell_type": "code",
   "execution_count": 45,
   "metadata": {
    "collapsed": false,
    "deletable": true,
    "editable": true
   },
   "outputs": [
    {
     "name": "stdout",
     "output_type": "stream",
     "text": [
      "Training...\n",
      "Epoch  1, CIFAR-10 Batch 1:  loss: 2.067225\n",
      "Accuracy: 24.88%\n",
      "Epoch  1, CIFAR-10 Batch 2:  loss: 1.787993\n",
      "Accuracy: 36.22%\n",
      "Epoch  1, CIFAR-10 Batch 3:  loss: 1.682235\n",
      "Accuracy: 40.76%\n",
      "Epoch  1, CIFAR-10 Batch 4:  loss: 1.632825\n",
      "Accuracy: 41.60%\n",
      "Epoch  1, CIFAR-10 Batch 5:  loss: 1.567514\n",
      "Accuracy: 43.52%\n",
      "Epoch  2, CIFAR-10 Batch 1:  loss: 1.535831\n",
      "Accuracy: 45.06%\n",
      "Epoch  2, CIFAR-10 Batch 2:  loss: 1.531432\n",
      "Accuracy: 44.94%\n",
      "Epoch  2, CIFAR-10 Batch 3:  loss: 1.515180\n",
      "Accuracy: 45.46%\n",
      "Epoch  2, CIFAR-10 Batch 4:  loss: 1.466281\n",
      "Accuracy: 47.56%\n",
      "Epoch  2, CIFAR-10 Batch 5:  loss: 1.449050\n",
      "Accuracy: 47.68%\n",
      "Epoch  3, CIFAR-10 Batch 1:  loss: 1.434616\n",
      "Accuracy: 48.40%\n",
      "Epoch  3, CIFAR-10 Batch 2:  loss: 1.436554\n",
      "Accuracy: 48.32%\n",
      "Epoch  3, CIFAR-10 Batch 3:  loss: 1.447742\n",
      "Accuracy: 47.64%\n",
      "Epoch  3, CIFAR-10 Batch 4:  loss: 1.415336\n",
      "Accuracy: 49.14%\n",
      "Epoch  3, CIFAR-10 Batch 5:  loss: 1.388219\n",
      "Accuracy: 50.22%\n",
      "Epoch  4, CIFAR-10 Batch 1:  loss: 1.379300\n",
      "Accuracy: 49.96%\n",
      "Epoch  4, CIFAR-10 Batch 2:  loss: 1.375265\n",
      "Accuracy: 50.14%\n",
      "Epoch  4, CIFAR-10 Batch 3:  loss: 1.396511\n",
      "Accuracy: 49.60%\n",
      "Epoch  4, CIFAR-10 Batch 4:  loss: 1.370148\n",
      "Accuracy: 50.84%\n",
      "Epoch  4, CIFAR-10 Batch 5:  loss: 1.351341\n",
      "Accuracy: 51.60%\n",
      "Epoch  5, CIFAR-10 Batch 1:  loss: 1.338780\n",
      "Accuracy: 51.52%\n",
      "Epoch  5, CIFAR-10 Batch 2:  loss: 1.333695\n",
      "Accuracy: 51.88%\n",
      "Epoch  5, CIFAR-10 Batch 3:  loss: 1.359526\n",
      "Accuracy: 51.34%\n",
      "Epoch  5, CIFAR-10 Batch 4:  loss: 1.334961\n",
      "Accuracy: 51.58%\n",
      "Epoch  5, CIFAR-10 Batch 5:  loss: 1.322388\n",
      "Accuracy: 52.62%\n",
      "Epoch  6, CIFAR-10 Batch 1:  loss: 1.301792\n",
      "Accuracy: 52.74%\n",
      "Epoch  6, CIFAR-10 Batch 2:  loss: 1.299104\n",
      "Accuracy: 53.24%\n",
      "Epoch  6, CIFAR-10 Batch 3:  loss: 1.327052\n",
      "Accuracy: 52.68%\n",
      "Epoch  6, CIFAR-10 Batch 4:  loss: 1.307819\n",
      "Accuracy: 52.60%\n",
      "Epoch  6, CIFAR-10 Batch 5:  loss: 1.293115\n",
      "Accuracy: 53.74%\n",
      "Epoch  7, CIFAR-10 Batch 1:  loss: 1.272772\n",
      "Accuracy: 54.00%\n",
      "Epoch  7, CIFAR-10 Batch 2:  loss: 1.270523\n",
      "Accuracy: 54.36%\n",
      "Epoch  7, CIFAR-10 Batch 3:  loss: 1.293422\n",
      "Accuracy: 53.66%\n",
      "Epoch  7, CIFAR-10 Batch 4:  loss: 1.287190\n",
      "Accuracy: 53.76%\n",
      "Epoch  7, CIFAR-10 Batch 5:  loss: 1.256237\n",
      "Accuracy: 54.68%\n",
      "Epoch  8, CIFAR-10 Batch 1:  loss: 1.242950\n",
      "Accuracy: 54.94%\n",
      "Epoch  8, CIFAR-10 Batch 2:  loss: 1.251417\n",
      "Accuracy: 55.04%\n",
      "Epoch  8, CIFAR-10 Batch 3:  loss: 1.260357\n",
      "Accuracy: 54.48%\n",
      "Epoch  8, CIFAR-10 Batch 4:  loss: 1.264648\n",
      "Accuracy: 54.46%\n",
      "Epoch  8, CIFAR-10 Batch 5:  loss: 1.233754\n",
      "Accuracy: 55.68%\n",
      "Epoch  9, CIFAR-10 Batch 1:  loss: 1.220210\n",
      "Accuracy: 55.70%\n",
      "Epoch  9, CIFAR-10 Batch 2:  loss: 1.250383\n",
      "Accuracy: 55.44%\n",
      "Epoch  9, CIFAR-10 Batch 3:  loss: 1.228941\n",
      "Accuracy: 56.14%\n",
      "Epoch  9, CIFAR-10 Batch 4:  loss: 1.234206\n",
      "Accuracy: 54.88%\n",
      "Epoch  9, CIFAR-10 Batch 5:  loss: 1.215033\n",
      "Accuracy: 56.18%\n",
      "Epoch 10, CIFAR-10 Batch 1:  loss: 1.205189\n",
      "Accuracy: 56.78%\n",
      "Epoch 10, CIFAR-10 Batch 2:  loss: 1.285589\n",
      "Accuracy: 54.08%\n",
      "Epoch 10, CIFAR-10 Batch 3:  loss: 1.208158\n",
      "Accuracy: 56.62%\n",
      "Epoch 10, CIFAR-10 Batch 4:  loss: 1.201693\n",
      "Accuracy: 56.30%\n",
      "Epoch 10, CIFAR-10 Batch 5:  loss: 1.211673\n",
      "Accuracy: 56.66%\n",
      "Epoch 11, CIFAR-10 Batch 1:  loss: 1.188711\n",
      "Accuracy: 57.30%\n",
      "Epoch 11, CIFAR-10 Batch 2:  loss: 1.259162\n",
      "Accuracy: 54.78%\n",
      "Epoch 11, CIFAR-10 Batch 3:  loss: 1.180759\n",
      "Accuracy: 57.86%\n",
      "Epoch 11, CIFAR-10 Batch 4:  loss: 1.188749\n",
      "Accuracy: 57.00%\n",
      "Epoch 11, CIFAR-10 Batch 5:  loss: 1.201313\n",
      "Accuracy: 57.66%\n",
      "Epoch 12, CIFAR-10 Batch 1:  loss: 1.174962\n",
      "Accuracy: 57.78%\n",
      "Epoch 12, CIFAR-10 Batch 2:  loss: 1.205008\n",
      "Accuracy: 56.76%\n",
      "Epoch 12, CIFAR-10 Batch 3:  loss: 1.166693\n",
      "Accuracy: 58.70%\n",
      "Epoch 12, CIFAR-10 Batch 4:  loss: 1.172568\n",
      "Accuracy: 57.76%\n",
      "Epoch 12, CIFAR-10 Batch 5:  loss: 1.186515\n",
      "Accuracy: 58.10%\n",
      "Epoch 13, CIFAR-10 Batch 1:  loss: 1.172341\n",
      "Accuracy: 57.52%\n",
      "Epoch 13, CIFAR-10 Batch 2:  loss: 1.199898\n",
      "Accuracy: 57.08%\n",
      "Epoch 13, CIFAR-10 Batch 3:  loss: 1.154042\n",
      "Accuracy: 58.98%\n",
      "Epoch 13, CIFAR-10 Batch 4:  loss: 1.166043\n",
      "Accuracy: 58.36%\n",
      "Epoch 13, CIFAR-10 Batch 5:  loss: 1.172145\n",
      "Accuracy: 58.22%\n",
      "Epoch 14, CIFAR-10 Batch 1:  loss: 1.173914\n",
      "Accuracy: 57.98%\n",
      "Epoch 14, CIFAR-10 Batch 2:  loss: 1.192979\n",
      "Accuracy: 57.52%\n",
      "Epoch 14, CIFAR-10 Batch 3:  loss: 1.142629\n",
      "Accuracy: 59.10%\n",
      "Epoch 14, CIFAR-10 Batch 4:  loss: 1.158863\n",
      "Accuracy: 58.56%\n",
      "Epoch 14, CIFAR-10 Batch 5:  loss: 1.157138\n",
      "Accuracy: 58.82%\n",
      "Epoch 15, CIFAR-10 Batch 1:  loss: 1.175208\n",
      "Accuracy: 57.90%\n",
      "Epoch 15, CIFAR-10 Batch 2:  loss: 1.181856\n",
      "Accuracy: 58.12%\n",
      "Epoch 15, CIFAR-10 Batch 3:  loss: 1.133347\n",
      "Accuracy: 59.76%\n",
      "Epoch 15, CIFAR-10 Batch 4:  loss: 1.155162\n",
      "Accuracy: 59.00%\n",
      "Epoch 15, CIFAR-10 Batch 5:  loss: 1.144801\n",
      "Accuracy: 59.40%\n",
      "Epoch 16, CIFAR-10 Batch 1:  loss: 1.172457\n",
      "Accuracy: 58.38%\n",
      "Epoch 16, CIFAR-10 Batch 2:  loss: 1.172506\n",
      "Accuracy: 58.56%\n",
      "Epoch 16, CIFAR-10 Batch 3:  loss: 1.126607\n",
      "Accuracy: 59.94%\n",
      "Epoch 16, CIFAR-10 Batch 4:  loss: 1.144727\n",
      "Accuracy: 59.40%\n",
      "Epoch 16, CIFAR-10 Batch 5:  loss: 1.133307\n",
      "Accuracy: 60.12%\n",
      "Epoch 17, CIFAR-10 Batch 1:  loss: 1.162612\n",
      "Accuracy: 58.92%\n",
      "Epoch 17, CIFAR-10 Batch 2:  loss: 1.160945\n",
      "Accuracy: 59.08%\n",
      "Epoch 17, CIFAR-10 Batch 3:  loss: 1.123103\n",
      "Accuracy: 60.30%\n",
      "Epoch 17, CIFAR-10 Batch 4:  loss: 1.145218\n",
      "Accuracy: 59.76%\n",
      "Epoch 17, CIFAR-10 Batch 5:  loss: 1.122322\n",
      "Accuracy: 60.74%\n",
      "Epoch 18, CIFAR-10 Batch 1:  loss: 1.164715\n",
      "Accuracy: 58.94%\n",
      "Epoch 18, CIFAR-10 Batch 2:  loss: 1.160500\n",
      "Accuracy: 59.14%\n",
      "Epoch 18, CIFAR-10 Batch 3:  loss: 1.120760\n",
      "Accuracy: 60.54%\n",
      "Epoch 18, CIFAR-10 Batch 4:  loss: 1.146749\n",
      "Accuracy: 59.62%\n",
      "Epoch 18, CIFAR-10 Batch 5:  loss: 1.116134\n",
      "Accuracy: 60.96%\n",
      "Epoch 19, CIFAR-10 Batch 1:  loss: 1.164666\n",
      "Accuracy: 59.26%\n",
      "Epoch 19, CIFAR-10 Batch 2:  loss: 1.160903\n",
      "Accuracy: 59.64%\n",
      "Epoch 19, CIFAR-10 Batch 3:  loss: 1.122933\n",
      "Accuracy: 60.78%\n",
      "Epoch 19, CIFAR-10 Batch 4:  loss: 1.139745\n",
      "Accuracy: 59.86%\n",
      "Epoch 19, CIFAR-10 Batch 5:  loss: 1.113142\n",
      "Accuracy: 60.84%\n",
      "Epoch 20, CIFAR-10 Batch 1:  loss: 1.157494\n",
      "Accuracy: 59.68%\n",
      "Epoch 20, CIFAR-10 Batch 2:  loss: 1.177395\n",
      "Accuracy: 59.26%\n",
      "Epoch 20, CIFAR-10 Batch 3:  loss: 1.120320\n",
      "Accuracy: 61.02%\n",
      "Epoch 20, CIFAR-10 Batch 4:  loss: 1.138997\n",
      "Accuracy: 59.64%\n",
      "Epoch 20, CIFAR-10 Batch 5:  loss: 1.115617\n",
      "Accuracy: 60.64%\n",
      "Epoch 21, CIFAR-10 Batch 1:  loss: 1.157988\n",
      "Accuracy: 59.92%\n",
      "Epoch 21, CIFAR-10 Batch 2:  loss: 1.178139\n",
      "Accuracy: 58.86%\n",
      "Epoch 21, CIFAR-10 Batch 3:  loss: 1.129116\n",
      "Accuracy: 60.28%\n",
      "Epoch 21, CIFAR-10 Batch 4:  loss: 1.149224\n",
      "Accuracy: 59.76%\n",
      "Epoch 21, CIFAR-10 Batch 5:  loss: 1.118640\n",
      "Accuracy: 60.94%\n",
      "Epoch 22, CIFAR-10 Batch 1:  loss: 1.186374\n",
      "Accuracy: 59.16%\n",
      "Epoch 22, CIFAR-10 Batch 2:  loss: 1.164707\n",
      "Accuracy: 59.92%\n",
      "Epoch 22, CIFAR-10 Batch 3:  loss: 1.138308\n",
      "Accuracy: 60.00%\n",
      "Epoch 22, CIFAR-10 Batch 4:  loss: 1.155157\n",
      "Accuracy: 59.66%\n",
      "Epoch 22, CIFAR-10 Batch 5:  loss: 1.123320\n",
      "Accuracy: 60.92%\n",
      "Epoch 23, CIFAR-10 Batch 1:  loss: 1.215360\n",
      "Accuracy: 58.88%\n",
      "Epoch 23, CIFAR-10 Batch 2:  loss: 1.146422\n",
      "Accuracy: 60.32%\n",
      "Epoch 23, CIFAR-10 Batch 3:  loss: 1.138844\n",
      "Accuracy: 60.84%\n",
      "Epoch 23, CIFAR-10 Batch 4:  loss: 1.178246\n",
      "Accuracy: 59.36%\n",
      "Epoch 23, CIFAR-10 Batch 5:  loss: 1.130983\n",
      "Accuracy: 60.58%\n",
      "Epoch 24, CIFAR-10 Batch 1:  loss: 1.249090\n",
      "Accuracy: 58.56%\n",
      "Epoch 24, CIFAR-10 Batch 2:  loss: 1.132933\n",
      "Accuracy: 60.68%\n",
      "Epoch 24, CIFAR-10 Batch 3:  loss: 1.155652\n",
      "Accuracy: 60.42%\n",
      "Epoch 24, CIFAR-10 Batch 4:  loss: 1.214655\n",
      "Accuracy: 58.50%\n",
      "Epoch 24, CIFAR-10 Batch 5:  loss: 1.137236\n",
      "Accuracy: 60.78%\n",
      "Epoch 25, CIFAR-10 Batch 1:  loss: 1.207916\n",
      "Accuracy: 58.92%\n",
      "Epoch 25, CIFAR-10 Batch 2:  loss: 1.117080\n",
      "Accuracy: 61.26%\n",
      "Epoch 25, CIFAR-10 Batch 3:  loss: 1.166122\n",
      "Accuracy: 60.20%\n",
      "Epoch 25, CIFAR-10 Batch 4:  loss: 1.202424\n",
      "Accuracy: 59.26%\n",
      "Epoch 25, CIFAR-10 Batch 5:  loss: 1.168200\n",
      "Accuracy: 60.22%\n"
     ]
    }
   ],
   "source": [
    "\"\"\"\n",
    "DON'T MODIFY ANYTHING IN THIS CELL\n",
    "\"\"\"\n",
    "save_model_path = './image_classification'\n",
    "\n",
    "print('Training...')\n",
    "with tf.Session() as sess:\n",
    "    # Initializing the variables\n",
    "    sess.run(tf.global_variables_initializer())\n",
    "    \n",
    "    # Training cycle\n",
    "    for epoch in range(epochs):\n",
    "        # Loop over all batches\n",
    "        n_batches = 5\n",
    "        for batch_i in range(1, n_batches + 1):\n",
    "            for batch_features, batch_labels in helper.load_preprocess_training_batch(batch_i, batch_size):\n",
    "                train_neural_network(sess, optimizer, keep_probability, batch_features, batch_labels)\n",
    "            print('Epoch {:>2}, CIFAR-10 Batch {}:  '.format(epoch + 1, batch_i), end='')\n",
    "            print_stats(sess, batch_features, batch_labels, cost, accuracy)\n",
    "            \n",
    "    # Save Model\n",
    "    saver = tf.train.Saver()\n",
    "    save_path = saver.save(sess, save_model_path)"
   ]
  },
  {
   "cell_type": "markdown",
   "metadata": {
    "deletable": true,
    "editable": true
   },
   "source": [
    "# Checkpoint\n",
    "The model has been saved to disk.\n",
    "## Test Model\n",
    "Test your model against the test dataset.  This will be your final accuracy. You should have an accuracy greater than 50%. If you don't, keep tweaking the model architecture and parameters."
   ]
  },
  {
   "cell_type": "code",
   "execution_count": 46,
   "metadata": {
    "collapsed": false,
    "deletable": true,
    "editable": true
   },
   "outputs": [
    {
     "name": "stdout",
     "output_type": "stream",
     "text": [
      "Testing Accuracy: 0.566796875\n",
      "\n"
     ]
    },
    {
     "data": {
      "image/png": "[encoded data removed]",
      "text/plain": [
       "<matplotlib.figure.Figure at 0x1e655d128>"
      ]
     },
     "metadata": {
      "image/png": {
       "height": 319,
       "width": 355
      }
     },
     "output_type": "display_data"
    }
   ],
   "source": [
    "\"\"\"\n",
    "DON'T MODIFY ANYTHING IN THIS CELL\n",
    "\"\"\"\n",
    "%matplotlib inline\n",
    "%config InlineBackend.figure_format = 'retina'\n",
    "\n",
    "import tensorflow as tf\n",
    "import pickle\n",
    "import helper\n",
    "import random\n",
    "\n",
    "# Set batch size if not already set\n",
    "try:\n",
    "    if batch_size:\n",
    "        pass\n",
    "except NameError:\n",
    "    batch_size = 64\n",
    "\n",
    "save_model_path = './image_classification'\n",
    "n_samples = 4\n",
    "top_n_predictions = 3\n",
    "\n",
    "def test_model():\n",
    "    \"\"\"\n",
    "    Test the saved model against the test dataset\n",
    "    \"\"\"\n",
    "\n",
    "    test_features, test_labels = pickle.load(open('preprocess_training.p', mode='rb'))\n",
    "    loaded_graph = tf.Graph()\n",
    "\n",
    "    with tf.Session(graph=loaded_graph) as sess:\n",
    "        # Load model\n",
    "        loader = tf.train.import_meta_graph(save_model_path + '.meta')\n",
    "        loader.restore(sess, save_model_path)\n",
    "\n",
    "        # Get Tensors from loaded model\n",
    "        loaded_x = loaded_graph.get_tensor_by_name('x:0')\n",
    "        loaded_y = loaded_graph.get_tensor_by_name('y:0')\n",
    "        loaded_keep_prob = loaded_graph.get_tensor_by_name('keep_prob:0')\n",
    "        loaded_logits = loaded_graph.get_tensor_by_name('logits:0')\n",
    "        loaded_acc = loaded_graph.get_tensor_by_name('accuracy:0')\n",
    "        \n",
    "        # Get accuracy in batches for memory limitations\n",
    "        test_batch_acc_total = 0\n",
    "        test_batch_count = 0\n",
    "        \n",
    "        for train_feature_batch, train_label_batch in helper.batch_features_labels(test_features, test_labels, batch_size):\n",
    "            test_batch_acc_total += sess.run(\n",
    "                loaded_acc,\n",
    "                feed_dict={loaded_x: train_feature_batch, loaded_y: train_label_batch, loaded_keep_prob: 1.0})\n",
    "            test_batch_count += 1\n",
    "\n",
    "        print('Testing Accuracy: {}\\n'.format(test_batch_acc_total/test_batch_count))\n",
    "\n",
    "        # Print Random Samples\n",
    "        random_test_features, random_test_labels = tuple(zip(*random.sample(list(zip(test_features, test_labels)), n_samples)))\n",
    "        random_test_predictions = sess.run(\n",
    "            tf.nn.top_k(tf.nn.softmax(loaded_logits), top_n_predictions),\n",
    "            feed_dict={loaded_x: random_test_features, loaded_y: random_test_labels, loaded_keep_prob: 1.0})\n",
    "        helper.display_image_predictions(random_test_features, random_test_labels, random_test_predictions)\n",
    "\n",
    "\n",
    "test_model()"
   ]
  },
  {
   "cell_type": "markdown",
   "metadata": {
    "deletable": true,
    "editable": true
   },
   "source": [
    "## Why 50-80% Accuracy?\n",
    "You might be wondering why you can't get an accuracy any higher. First things first, 50% isn't bad for a simple CNN.  Pure guessing would get you 10% accuracy. That's because there are many more techniques that can be applied to your model and we recemmond that once you are done with this project, you explore!\n",
    "\n",
    "## Submitting This Project\n",
    "When submitting this project, make sure to run all the cells before saving the notebook.  Save the notebook file as \"image_classification.ipynb\" and save it as a HTML file under \"File\" -> \"Download as\".  Include the \"helper.py\" and \"problem_unittests.py\" files in your submission."
   ]
  }
 ],
 "metadata": {
  "kernelspec": {
   "display_name": "Python 3",
   "language": "python",
   "name": "python3"
  },
  "language_info": {
   "codemirror_mode": {
    "name": "ipython",
    "version": 3
   },
   "file_extension": ".py",
   "mimetype": "text/x-python",
   "name": "python",
   "nbconvert_exporter": "python",
   "pygments_lexer": "ipython3",
   "version": "3.5.3"
  }
 },
 "nbformat": 4,
 "nbformat_minor": 0
}
